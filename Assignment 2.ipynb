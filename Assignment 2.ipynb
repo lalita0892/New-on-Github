{
 "cells": [
  {
   "cell_type": "markdown",
   "id": "6f502915",
   "metadata": {},
   "source": [
    "<a id=\"anchor\"></a>\n",
    "# Project Science\n",
    "### Mitochondria"
   ]
  },
  {
   "cell_type": "markdown",
   "id": "c3d563a2",
   "metadata": {},
   "source": [
    "**Cell power house**\n",
    "\n",
    "*ATP*"
   ]
  },
  {
   "cell_type": "markdown",
   "id": "f345fdb3",
   "metadata": {},
   "source": [
    "# To do List \n",
    "- [x] Morning workout\n",
    "- [x] News paper reading\n",
    "- [x] Breakfast\n",
    "- [x] Office\n",
    "- [] House Cleaning\n",
    "- [] Dinner\n",
    "\n",
    "\n",
    "\n",
    "\n",
    "\n",
    "\n",
    "# Stationary List\n",
    "* *Pencil*\n",
    "* *Eraser*\n",
    "* *Sharpner*\n",
    "* *Ink Pen*\n",
    "* *Ruler Scale*\n",
    "\n",
    "# Ordered List\n",
    "<Ol>\n",
    "<li>Orange juice</li>\n",
    "<li>Pomegranate juice</li>\n",
    "<li>Mango juice</li>  \n",
    "<li>Apple juice</li>     \n"
   ]
  },
  {
   "attachments": {
    "images.jpg": {
     "image/jpeg": "[encoded data removed]"
    }
   },
   "cell_type": "markdown",
   "id": "c506fa6a",
   "metadata": {},
   "source": [
    "![images.jpg](attachment:images.jpg)"
   ]
  },
  {
   "cell_type": "markdown",
   "id": "f1a3bebb",
   "metadata": {},
   "source": [
    "**Anchor**\n",
    "[Go to \"Project Science\"](#anchor)"
   ]
  },
  {
   "cell_type": "code",
   "execution_count": 18,
   "id": "a36f3be2",
   "metadata": {},
   "outputs": [
    {
     "data": {
      "text/plain": [
       "240"
      ]
     },
     "execution_count": 18,
     "metadata": {},
     "output_type": "execute_result"
    }
   ],
   "source": [
    "80*3"
   ]
  },
  {
   "cell_type": "code",
   "execution_count": 19,
   "id": "6b1d2107",
   "metadata": {},
   "outputs": [
    {
     "data": {
      "text/plain": [
       "4.366666666666666"
      ]
     },
     "execution_count": 19,
     "metadata": {},
     "output_type": "execute_result"
    }
   ],
   "source": [
    "13.1/3 "
   ]
  },
  {
   "cell_type": "code",
   "execution_count": 20,
   "id": "afef57fd",
   "metadata": {},
   "outputs": [
    {
     "data": {
      "text/plain": [
       "160"
      ]
     },
     "execution_count": 20,
     "metadata": {},
     "output_type": "execute_result"
    }
   ],
   "source": [
    "5*(2**5)"
   ]
  },
  {
   "cell_type": "code",
   "execution_count": 21,
   "id": "613978c8",
   "metadata": {},
   "outputs": [
    {
     "name": "stdout",
     "output_type": "stream",
     "text": [
      "[1, 3] [80]\n",
      "[1, 3] [80, 240]\n"
     ]
    }
   ],
   "source": [
    "xarray = [1, 3]\n",
    "yarray = []\n",
    "for x in xarray:\n",
    "    y = x * 80\n",
    "    yarray.append(y)\n",
    "    print(xarray,yarray)"
   ]
  },
  {
   "cell_type": "code",
   "execution_count": 22,
   "id": "8215ca32",
   "metadata": {},
   "outputs": [
    {
     "name": "stdout",
     "output_type": "stream",
     "text": [
      "[1, 13.1] [0.3333333333333333]\n",
      "[1, 13.1] [0.3333333333333333, 4.366666666666666]\n"
     ]
    }
   ],
   "source": [
    "xarray = [1, 13.1]\n",
    "yarray = []\n",
    "for x in xarray:\n",
    "    y = x / 3\n",
    "    yarray.append(y)\n",
    "    print(xarray,yarray)"
   ]
  }
 ],
 "metadata": {
  "kernelspec": {
   "display_name": "Python 3 (ipykernel)",
   "language": "python",
   "name": "python3"
  },
  "language_info": {
   "codemirror_mode": {
    "name": "ipython",
    "version": 3
   },
   "file_extension": ".py",
   "mimetype": "text/x-python",
   "name": "python",
   "nbconvert_exporter": "python",
   "pygments_lexer": "ipython3",
   "version": "3.9.13"
  }
 },
 "nbformat": 4,
 "nbformat_minor": 5
}
